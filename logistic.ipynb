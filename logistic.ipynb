{
 "cells": [
  {
   "cell_type": "code",
   "execution_count": 1,
   "metadata": {},
   "outputs": [
    {
     "data": {
      "application/vnd.jupyter.widget-view+json": {
       "model_id": "9a24ef3c15aa400ba7dd1db76d18552a",
       "version_major": 2,
       "version_minor": 0
      },
      "text/plain": [
       "HBox(children=(IntProgress(value=0, description='SVRG', max=10, style=ProgressStyle(description_width='initial…"
      ]
     },
     "metadata": {},
     "output_type": "display_data"
    },
    {
     "name": "stdout",
     "output_type": "stream",
     "text": [
      "-2.0009444255322824 -2.0\n",
      "[-0.10305934 -0.17551216  1.68678215 -0.15228941 -0.36461313]\n",
      "[-0.10182807 -0.17756581  1.68835916 -0.14905144 -0.36600197]\n"
     ]
    }
   ],
   "source": [
    "import numpy as np\n",
    "from numpy.random.mtrand import multivariate_normal\n",
    "from scipy.linalg import toeplitz\n",
    "from scipy.optimize import check_grad\n",
    "\n",
    "from linlearn.model.linear import Features\n",
    "from linlearn.model.losses import Logistic, sigmoid\n",
    "from linlearn.solver import gd, svrg\n",
    "\n",
    "from linlearn.learner import LogisticRegression\n",
    "\n",
    "\n",
    "def simulate(n_samples, w0, b0=None):\n",
    "    n_features = w0.shape[0]\n",
    "    cov = toeplitz(0.5 ** np.arange(0, n_features))\n",
    "    X = multivariate_normal(np.zeros(n_features), cov, size=n_samples)\n",
    "    logits = X.dot(w0)\n",
    "    if b0 is not None:\n",
    "        logits += b0\n",
    "    p = sigmoid(logits)\n",
    "    y = np.random.binomial(1, p, size=n_samples).astype('float64')\n",
    "    y[:] = 2 * y - 1\n",
    "    return X, y\n",
    "\n",
    "\n",
    "n_samples = 2000000\n",
    "n_features = 5\n",
    "fit_intercept = True\n",
    "\n",
    "w0 = np.random.randn(n_features)\n",
    "if fit_intercept:\n",
    "    b0 = -2.\n",
    "else:\n",
    "    b0 = None\n",
    "\n",
    "X, y = simulate(n_samples, w0, b0)\n",
    "\n",
    "if fit_intercept:\n",
    "    w = np.zeros(n_features + 1)\n",
    "else:\n",
    "    w = np.zeros(n_features)\n",
    "\n",
    "max_epochs = 10\n",
    "step = 1e-2\n",
    "\n",
    "\n",
    "lr = LogisticRegression(fit_intercept=fit_intercept, max_iter=max_epochs,\n",
    "                        step=step, smp=True, verbose=True)\n",
    "lr.fit(X, y)\n",
    "\n",
    "# lr.predict_proba(X)\n",
    "\n",
    "# linear = Linear(fit_intercept).fit(X, y)\n",
    "# logistic = Logistic()\n",
    "# w = svrg(linear, logistic, w, max_epochs, step)\n",
    "\n",
    "if fit_intercept:\n",
    "    print(lr.intercept_, b0)\n",
    "    print(lr.coef_)\n",
    "    print(w0)\n",
    "else:\n",
    "    print(w)\n",
    "    print(w0)"
   ]
  },
  {
   "cell_type": "code",
   "execution_count": null,
   "metadata": {},
   "outputs": [],
   "source": []
  }
 ],
 "metadata": {
  "kernelspec": {
   "display_name": "Python 3",
   "language": "python",
   "name": "python3"
  },
  "language_info": {
   "codemirror_mode": {
    "name": "ipython",
    "version": 3
   },
   "file_extension": ".py",
   "mimetype": "text/x-python",
   "name": "python",
   "nbconvert_exporter": "python",
   "pygments_lexer": "ipython3",
   "version": "3.7.4"
  },
  "toc": {
   "base_numbering": 1,
   "nav_menu": {},
   "number_sections": true,
   "sideBar": true,
   "skip_h1_title": false,
   "title_cell": "Table of Contents",
   "title_sidebar": "Contents",
   "toc_cell": false,
   "toc_position": {},
   "toc_section_display": true,
   "toc_window_display": false
  }
 },
 "nbformat": 4,
 "nbformat_minor": 2
}
